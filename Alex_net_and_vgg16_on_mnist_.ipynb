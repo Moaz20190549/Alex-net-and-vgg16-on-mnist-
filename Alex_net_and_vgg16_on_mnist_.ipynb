{
  "nbformat": 4,
  "nbformat_minor": 0,
  "metadata": {
    "colab": {
      "provenance": []
    },
    "kernelspec": {
      "name": "python3",
      "display_name": "Python 3"
    },
    "language_info": {
      "name": "python"
    },
    "accelerator": "GPU",
    "gpuClass": "standard"
  },
  "cells": [
    {
      "cell_type": "code",
      "execution_count": 1,
      "metadata": {
        "id": "LM3mBW4h3Gy2"
      },
      "outputs": [],
      "source": [
        "from tensorflow.keras.datasets import mnist\n",
        "from tensorflow.keras.models  import Sequential\n",
        "from tensorflow.keras.layers import Conv2D, Activation, Dropout, Dense, MaxPooling2D, Flatten\n",
        "from tensorflow.keras.optimizers import SGD, Adam, Adadelta\n",
        "import numpy as np\n",
        "import tensorflow as tf\n",
        "import keras"
      ]
    },
    {
      "cell_type": "code",
      "source": [
        "(x_train, y_train), (x_test, y_test) = mnist.load_data()\n",
        "print(x_train.shape)\n",
        "image_size=28\n",
        "x_train=np.array(x_train).reshape(-1, image_size ,image_size ,1)\n",
        "x_test=np.array(x_test).reshape(-1, image_size ,image_size ,1)\n",
        "#scale image =1 channel and all the data are scale\n",
        "print(x_train.shape)\n",
        "print(x_test.shape)\n",
        "x_train,x_test=x_train/255.0 , x_test/255.0\n",
        "print(x_train.shape[1:])"
      ],
      "metadata": {
        "colab": {
          "base_uri": "https://localhost:8080/"
        },
        "id": "snAxHx3H3K1W",
        "outputId": "2bbb2848-0be4-4a67-8531-b53a6e8ab263"
      },
      "execution_count": 2,
      "outputs": [
        {
          "output_type": "stream",
          "name": "stdout",
          "text": [
            "(60000, 28, 28)\n",
            "(60000, 28, 28, 1)\n",
            "(10000, 28, 28, 1)\n",
            "(28, 28, 1)\n"
          ]
        }
      ]
    },
    {
      "cell_type": "code",
      "source": [
        "AlexNet = Sequential()\n",
        "\n",
        "#1st Convolutional Layer\n",
        "AlexNet.add(Conv2D(filters=96, input_shape= x_train.shape[1:], kernel_size=(11,11), strides=(4,4), padding='same'))\n",
        "AlexNet.add(Activation('relu'))\n",
        "AlexNet.add(MaxPooling2D(pool_size=(2,2), strides=(2,2), padding='same'))\n",
        "\n",
        "#2nd Convolutional Layer\n",
        "AlexNet.add(Conv2D(filters=256, kernel_size=(5, 5), strides=(1,1), padding='same'))\n",
        "AlexNet.add(Activation('relu'))\n",
        "AlexNet.add(MaxPooling2D(pool_size=(2,2), strides=(2,2), padding='same'))\n",
        "\n",
        "#3rd Convolutional Layer\n",
        "AlexNet.add(Conv2D(filters=384, kernel_size=(3,3), strides=(1,1), padding='same'))\n",
        "AlexNet.add(Activation('relu'))\n",
        "\n",
        "#4th Convolutional Layer\n",
        "AlexNet.add(Conv2D(filters=384, kernel_size=(3,3), strides=(1,1), padding='same'))\n",
        "AlexNet.add(Activation('relu'))\n",
        "\n",
        "#5th Convolutional Layer\n",
        "AlexNet.add(Conv2D(filters=256, kernel_size=(3,3), strides=(1,1), padding='same'))\n",
        "AlexNet.add(Activation('relu'))\n",
        "AlexNet.add(MaxPooling2D(pool_size=(2,2), strides=(2,2), padding='same'))\n",
        "\n",
        "#Passing it to a Fully Connected layer\n",
        "AlexNet.add(Flatten())\n",
        "# 1st Fully Connected Layer\n",
        "AlexNet.add(Dense(4096))\n",
        "AlexNet.add(Activation('relu'))\n",
        "# Add Dropout to prevent overfitting\n",
        "AlexNet.add(Dropout(0.4))\n",
        "\n",
        "#2nd Fully Connected Layer\n",
        "AlexNet.add(Dense(4096))\n",
        "AlexNet.add(Activation('relu'))\n",
        "#Add Dropout\n",
        "AlexNet.add(Dropout(0.4))\n",
        "\n",
        "# 3rd Fully Connected Layer\n",
        "AlexNet.add(Dense(1000))\n",
        "AlexNet.add(Activation('relu'))\n",
        "#Add Dropout\n",
        "AlexNet.add(Dropout(0.4))\n",
        "\n",
        "#Output Layer\n",
        "AlexNet.add(Dense(10, activation='softmax', name='output'))\n",
        "\n",
        "#Model Summary\n",
        "AlexNet.summary()\n",
        "\n"
      ],
      "metadata": {
        "colab": {
          "base_uri": "https://localhost:8080/"
        },
        "id": "VoJ0YoYc3aS8",
        "outputId": "9669478b-44d2-4918-a60b-da8c60a2b2e3"
      },
      "execution_count": 3,
      "outputs": [
        {
          "output_type": "stream",
          "name": "stdout",
          "text": [
            "Model: \"sequential\"\n",
            "_________________________________________________________________\n",
            " Layer (type)                Output Shape              Param #   \n",
            "=================================================================\n",
            " conv2d (Conv2D)             (None, 7, 7, 96)          11712     \n",
            "                                                                 \n",
            " activation (Activation)     (None, 7, 7, 96)          0         \n",
            "                                                                 \n",
            " max_pooling2d (MaxPooling2D  (None, 4, 4, 96)         0         \n",
            " )                                                               \n",
            "                                                                 \n",
            " conv2d_1 (Conv2D)           (None, 4, 4, 256)         614656    \n",
            "                                                                 \n",
            " activation_1 (Activation)   (None, 4, 4, 256)         0         \n",
            "                                                                 \n",
            " max_pooling2d_1 (MaxPooling  (None, 2, 2, 256)        0         \n",
            " 2D)                                                             \n",
            "                                                                 \n",
            " conv2d_2 (Conv2D)           (None, 2, 2, 384)         885120    \n",
            "                                                                 \n",
            " activation_2 (Activation)   (None, 2, 2, 384)         0         \n",
            "                                                                 \n",
            " conv2d_3 (Conv2D)           (None, 2, 2, 384)         1327488   \n",
            "                                                                 \n",
            " activation_3 (Activation)   (None, 2, 2, 384)         0         \n",
            "                                                                 \n",
            " conv2d_4 (Conv2D)           (None, 2, 2, 256)         884992    \n",
            "                                                                 \n",
            " activation_4 (Activation)   (None, 2, 2, 256)         0         \n",
            "                                                                 \n",
            " max_pooling2d_2 (MaxPooling  (None, 1, 1, 256)        0         \n",
            " 2D)                                                             \n",
            "                                                                 \n",
            " flatten (Flatten)           (None, 256)               0         \n",
            "                                                                 \n",
            " dense (Dense)               (None, 4096)              1052672   \n",
            "                                                                 \n",
            " activation_5 (Activation)   (None, 4096)              0         \n",
            "                                                                 \n",
            " dropout (Dropout)           (None, 4096)              0         \n",
            "                                                                 \n",
            " dense_1 (Dense)             (None, 4096)              16781312  \n",
            "                                                                 \n",
            " activation_6 (Activation)   (None, 4096)              0         \n",
            "                                                                 \n",
            " dropout_1 (Dropout)         (None, 4096)              0         \n",
            "                                                                 \n",
            " dense_2 (Dense)             (None, 1000)              4097000   \n",
            "                                                                 \n",
            " activation_7 (Activation)   (None, 1000)              0         \n",
            "                                                                 \n",
            " dropout_2 (Dropout)         (None, 1000)              0         \n",
            "                                                                 \n",
            " output (Dense)              (None, 10)                10010     \n",
            "                                                                 \n",
            "=================================================================\n",
            "Total params: 25,664,962\n",
            "Trainable params: 25,664,962\n",
            "Non-trainable params: 0\n",
            "_________________________________________________________________\n"
          ]
        }
      ]
    },
    {
      "cell_type": "code",
      "source": [
        "optimize = SGD(learning_rate=0.05)\n",
        "AlexNet.compile(optimizer=optimize, loss=\"sparse_categorical_crossentropy\", metrics=[\"accuracy\"])\n",
        "AlexNet.fit(x_train, y_train, epochs=5 ,batch_size=20)\n",
        "loss, accuracy= AlexNet.evaluate(x_test, y_test)\n",
        "print( 'the Accuracy =' , accuracy*100)"
      ],
      "metadata": {
        "colab": {
          "base_uri": "https://localhost:8080/"
        },
        "id": "Hw5w3NOK36rs",
        "outputId": "694ad85b-8c7a-4f66-d3d1-25d9c58bcffb"
      },
      "execution_count": 4,
      "outputs": [
        {
          "output_type": "stream",
          "name": "stdout",
          "text": [
            "Epoch 1/5\n",
            "3000/3000 [==============================] - 31s 9ms/step - loss: 1.0805 - accuracy: 0.6014\n",
            "Epoch 2/5\n",
            "3000/3000 [==============================] - 26s 9ms/step - loss: 0.1048 - accuracy: 0.9707\n",
            "Epoch 3/5\n",
            "3000/3000 [==============================] - 26s 9ms/step - loss: 0.0642 - accuracy: 0.9819\n",
            "Epoch 4/5\n",
            "3000/3000 [==============================] - 26s 9ms/step - loss: 0.0460 - accuracy: 0.9866\n",
            "Epoch 5/5\n",
            "3000/3000 [==============================] - 26s 9ms/step - loss: 0.0345 - accuracy: 0.9900\n",
            "313/313 [==============================] - 2s 5ms/step - loss: 0.0464 - accuracy: 0.9870\n",
            "the Accuracy = 98.69999885559082\n"
          ]
        }
      ]
    },
    {
      "cell_type": "code",
      "source": [
        "y_pred=AlexNet.predict(x_test)\n",
        "y_pre=np.argmax(y_pred,axis=1)\n",
        "y_pred"
      ],
      "metadata": {
        "colab": {
          "base_uri": "https://localhost:8080/"
        },
        "id": "63A4h-9NAy4m",
        "outputId": "0da518f6-2151-4227-8868-258f18fd521a"
      },
      "execution_count": 21,
      "outputs": [
        {
          "output_type": "stream",
          "name": "stdout",
          "text": [
            "313/313 [==============================] - 1s 3ms/step\n"
          ]
        },
        {
          "output_type": "execute_result",
          "data": {
            "text/plain": [
              "array([[4.97869017e-08, 1.33139679e-06, 1.47998105e-06, ...,\n",
              "        9.99959588e-01, 2.45883616e-08, 3.23991662e-05],\n",
              "       [2.21421548e-09, 9.69254052e-11, 9.99999881e-01, ...,\n",
              "        4.95085075e-08, 8.79287032e-10, 5.85815728e-12],\n",
              "       [3.38461120e-07, 9.99891758e-01, 7.32776789e-06, ...,\n",
              "        4.26362494e-05, 4.33862187e-05, 2.39385281e-06],\n",
              "       ...,\n",
              "       [2.36559716e-10, 3.57704664e-11, 7.47885487e-09, ...,\n",
              "        1.35426115e-08, 4.73532458e-09, 6.04342347e-07],\n",
              "       [1.42767269e-04, 7.38445806e-07, 3.47024724e-07, ...,\n",
              "        1.10747493e-07, 4.61275689e-04, 1.74721223e-04],\n",
              "       [6.60951969e-08, 5.24284505e-10, 4.49987922e-08, ...,\n",
              "        2.03230466e-12, 2.45577052e-08, 1.06634736e-11]], dtype=float32)"
            ]
          },
          "metadata": {},
          "execution_count": 21
        }
      ]
    },
    {
      "cell_type": "code",
      "source": [
        "from sklearn.metrics import f1_score,confusion_matrix,recall_score,precision_score\n",
        "from sklearn.metrics import classification_report\n",
        "print(classification_report(y_test,y_pre))"
      ],
      "metadata": {
        "colab": {
          "base_uri": "https://localhost:8080/"
        },
        "id": "Ro5pGJqsA6bt",
        "outputId": "3ed4aff7-0e68-43a0-b92d-5e2cd14cf353"
      },
      "execution_count": 19,
      "outputs": [
        {
          "output_type": "stream",
          "name": "stdout",
          "text": [
            "              precision    recall  f1-score   support\n",
            "\n",
            "           0       0.98      1.00      0.99       980\n",
            "           1       0.99      0.99      0.99      1135\n",
            "           2       0.98      0.99      0.98      1032\n",
            "           3       0.99      0.98      0.99      1010\n",
            "           4       0.99      1.00      0.99       982\n",
            "           5       0.99      0.99      0.99       892\n",
            "           6       0.99      0.99      0.99       958\n",
            "           7       0.98      0.98      0.98      1028\n",
            "           8       0.98      0.98      0.98       974\n",
            "           9       0.99      0.98      0.98      1009\n",
            "\n",
            "    accuracy                           0.99     10000\n",
            "   macro avg       0.99      0.99      0.99     10000\n",
            "weighted avg       0.99      0.99      0.99     10000\n",
            "\n"
          ]
        }
      ]
    },
    {
      "cell_type": "code",
      "source": [
        "print(confusion_matrix(y_test,y_pre))"
      ],
      "metadata": {
        "colab": {
          "base_uri": "https://localhost:8080/"
        },
        "id": "OjfKNUcPCNJ2",
        "outputId": "9eaa6093-0124-43c9-c720-2c4f1a6b86ec"
      },
      "execution_count": 20,
      "outputs": [
        {
          "output_type": "stream",
          "name": "stdout",
          "text": [
            "[[ 978    0    0    0    0    0    1    1    0    0]\n",
            " [   7 1125    1    0    0    0    1    0    1    0]\n",
            " [   4    1 1017    1    2    0    0    4    3    0]\n",
            " [   0    0    8  992    0    4    0    0    5    1]\n",
            " [   0    0    0    0  979    0    0    1    0    2]\n",
            " [   3    0    0    4    0  879    5    0    1    0]\n",
            " [   4    1    1    0    5    1  946    0    0    0]\n",
            " [   1    4    7    0    0    0    0 1011    2    3]\n",
            " [   3    1    3    1    1    1    3    2  957    2]\n",
            " [   0    3    0    1    5    1    0    8    5  986]]\n"
          ]
        }
      ]
    },
    {
      "cell_type": "code",
      "source": [
        "model = Sequential()\n",
        "model.add(Conv2D(input_shape= x_train.shape[1:],filters=64,kernel_size=(3,3),padding=\"same\", activation=\"relu\"))\n",
        "model.add(Conv2D(filters=64,kernel_size=(3,3),padding=\"same\", activation=\"relu\"))\n",
        "\n",
        "model.add(MaxPooling2D(pool_size=(2,2), padding=\"same\",strides=(2,2)))\n",
        "\n",
        "model.add(Conv2D(filters=128, kernel_size=(3,3), padding=\"same\", activation=\"relu\"))\n",
        "model.add(Conv2D(filters=128, kernel_size=(3,3), padding=\"same\", activation=\"relu\"))\n",
        "\n",
        "model.add(MaxPooling2D(pool_size=(2,2), padding=\"same\",strides=(2,2)))\n",
        "\n",
        "model.add(Conv2D(filters=256, kernel_size=(3,3), padding=\"same\", activation=\"relu\"))\n",
        "model.add(Conv2D(filters=256, kernel_size=(3,3), padding=\"same\", activation=\"relu\"))\n",
        "model.add(Conv2D(filters=256, kernel_size=(3,3), padding=\"same\", activation=\"relu\"))\n",
        "\n",
        "model.add(MaxPooling2D(pool_size=(2,2), padding=\"same\",strides=(2,2)))\n",
        "\n",
        "model.add(Conv2D(filters=512, kernel_size=(3,3), padding=\"same\", activation=\"relu\"))\n",
        "model.add(Conv2D(filters=512, kernel_size=(3,3), padding=\"same\", activation=\"relu\"))\n",
        "model.add(Conv2D(filters=512, kernel_size=(3,3), padding=\"same\", activation=\"relu\"))\n",
        "\n",
        "model.add(MaxPooling2D(pool_size=(2,2), padding=\"same\",strides=(2,2)))\n",
        "\n",
        "model.add(Conv2D(filters=512, kernel_size=(3,3), padding=\"same\", activation=\"relu\"))\n",
        "model.add(Conv2D(filters=512, kernel_size=(3,3), padding=\"same\", activation=\"relu\"))\n",
        "model.add(Conv2D(filters=512, kernel_size=(3,3), padding=\"same\", activation=\"relu\"))\n",
        "\n",
        "model.add(MaxPooling2D(pool_size=(2,2),strides=(2,2)))\n",
        "\n",
        "model.add(Flatten())\n",
        "model.add(Dense(units=4096,activation=\"relu\"))\n",
        "model.add(Dense(units=4096,activation=\"relu\"))\n",
        "model.add(Dense(units=10, activation=\"softmax\"))"
      ],
      "metadata": {
        "id": "Q3UghaWb5z_2"
      },
      "execution_count": 5,
      "outputs": []
    },
    {
      "cell_type": "code",
      "source": [
        "optimize = SGD(learning_rate=0.05)\n",
        "model.compile(optimizer=optimize, loss=\"sparse_categorical_crossentropy\", metrics=[\"accuracy\"])\n",
        "model.fit(x_train, y_train, epochs=5 ,batch_size=20)\n",
        "loss, accuracy= model.evaluate(x_test, y_test)\n",
        "print( 'the Accuracy =' , accuracy*100)\n",
        "     "
      ],
      "metadata": {
        "colab": {
          "base_uri": "https://localhost:8080/"
        },
        "id": "NuAfQG-H6Jjg",
        "outputId": "9b243613-1436-4352-ee2c-b6fa4da06bad"
      },
      "execution_count": 6,
      "outputs": [
        {
          "output_type": "stream",
          "name": "stdout",
          "text": [
            "Epoch 1/5\n",
            "3000/3000 [==============================] - 78s 26ms/step - loss: 2.2986 - accuracy: 0.1180\n",
            "Epoch 2/5\n",
            "3000/3000 [==============================] - 77s 26ms/step - loss: 1.8752 - accuracy: 0.2901\n",
            "Epoch 3/5\n",
            "3000/3000 [==============================] - 77s 26ms/step - loss: 0.1167 - accuracy: 0.9669\n",
            "Epoch 4/5\n",
            "3000/3000 [==============================] - 77s 26ms/step - loss: 0.0543 - accuracy: 0.9849\n",
            "Epoch 5/5\n",
            "3000/3000 [==============================] - 77s 26ms/step - loss: 0.0351 - accuracy: 0.9903\n",
            "313/313 [==============================] - 4s 10ms/step - loss: 0.0278 - accuracy: 0.9906\n",
            "the Accuracy = 99.05999898910522\n"
          ]
        }
      ]
    }
  ]
}